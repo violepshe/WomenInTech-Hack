{
  "nbformat": 4,
  "nbformat_minor": 0,
  "metadata": {
    "colab": {
      "name": "Sesión HackWomen - Int a Python",
      "provenance": [],
      "collapsed_sections": [],
      "include_colab_link": true
    },
    "kernelspec": {
      "name": "python3",
      "display_name": "Python 3"
    }
  },
  "cells": [
    {
      "cell_type": "markdown",
      "metadata": {
        "id": "view-in-github",
        "colab_type": "text"
      },
      "source": [
        "<a href=\"https://colab.research.google.com/github/AlexBM45/IntPython/blob/main/Sesi%C3%B3n_HackWomen_Int_a_Python.ipynb\" target=\"_parent\"><img src=\"https://colab.research.google.com/assets/colab-badge.svg\" alt=\"Open In Colab\"/></a>"
      ]
    },
    {
      "cell_type": "markdown",
      "metadata": {
        "id": "OpSHrtcJLQEU"
      },
      "source": [
        "# Introducción a Python\n",
        "\n",
        "A lo largo de este cuaderno explicaremos algunos conceptos básicos de Python. Los temas específicos que cubriremos en estos cuadernos introductorios son los siguientes:\n",
        "\n",
        "1. ¿Qué es Python?\n",
        "2. Objetos avanzados: _Listas_ y _diccionarios_\n",
        "3. Empaquetando código - _Funciones_\n",
        "\n",
        "### Planteamiento del problema:\n",
        "\n",
        "Imagina que queremos crear un directorio que contenga toda la información de los estudiantes de nuestro club. Para ello, necesitaremos construir paso a paso la idea completa del proyecto.\n",
        "\n",
        "Para ello, necesitamos saber sobre tipos de variables, objetos avanzados como listas y diccionarios, cómo crear funciones para operar algunos valores y cómo crear nuevos objetos.\n",
        "\n",
        "\n",
        "## ¿Qué es Python?\n",
        "\n",
        "<center>\n",
        "    <img width=\"50%\" src=\"https://www.python.org/static/community_logos/python-logo-generic.svg\">\n",
        "</center>\n",
        "\n",
        "Python es un lenguaje de programación **interpretado**, lo que significa que un _interpretador_ ejecuta y ejecuta su código línea por línea en lugar de compilarlo. Python tiene una sintaxis elegante que te obliga a **aplicar sangría a tu código para construir bloques de código**, por lo que Python no usa `{}` para bloques de código. No es común usar punto y coma en Python (`;`) al final de cualquier oración. Otra cosa interesante de Python es que no necesita declarar variables, solo las define, y sucede que Python **se escribe dinámicamente**.\n",
        "\n",
        "### Hola mundo en Python\n",
        "\n",
        "Usaremos las funciones de entrada y salida de Python para crear nuestro primer hola mundo.\n",
        "\n",
        "Solo necesita ejecutar la siguiente celda con código presionando el botón _play_ o presionando `Shift + Enter` en su teclado."
      ]
    },
    {
      "cell_type": "markdown",
      "metadata": {
        "id": "RSJW87sPXOAh"
      },
      "source": [
        "## Variables\n",
        "\n",
        "Python tiene varios tipos de variables de forma nativa. Comenzando con variables numéricas, Python puede trabajar con números enteros, números flotantes y números complejos. También cuenta con cadenas de caracteres para trabajar con texto y otro tipo de variables llamadas booleanos para guardar valores binarios.\n",
        "\n",
        "La forma en que declaramos las variables es la siguiente:\n",
        "\n",
        "```python\n",
        "variable_name = <value>\n",
        "```\n",
        "\n",
        "El nombre de una variable no puede tener espacios, debe comenzar con una letra, puede contener letras mayúsculas o números dentro del nombre.\n",
        "\n",
        "#### Ejemplo:\n",
        "\n",
        "```python\n",
        "my_dog = \"Mirlo\"\n",
        "```\n",
        "\n",
        "Para obtener el tipo de una variable, podemos usar la función `type ()` y pasar como parámetro la variable que queremos conocer.\n",
        "\n",
        "#### Ejemplo:\n",
        "\n",
        "```python\n",
        "type(my_dog)\n",
        "```"
      ]
    },
    {
      "cell_type": "markdown",
      "metadata": {
        "id": "nlMAcIGEYIef"
      },
      "source": [
        "Hay varios tipos de variables, ¡incluso números complejos en Python!\n",
        "\n",
        "#### Ejercicio:\n",
        "\n",
        "Define e imprime el tipo y valor de las variables denominadas:\n",
        "- `name`, debe ser un` <str> `que contenga cualquier nombre\n",
        "- `age`, debe ser un` <int> `que contenga cualquier edad\n",
        "- `pi`, debe ser un` <float> `que contenga su mejor aproximación a pi\n",
        "- `modulus_one`, debe ser un `<complex>`que tiene [módulo](https://en.wikipedia.org/wiki/Absolute_value#Complex_numbers) uno"
      ]
    },
    {
      "cell_type": "markdown",
      "metadata": {
        "id": "U_cKNLU3YnP8"
      },
      "source": [
        "## Control de flujo (condicionales)\n",
        "\n",
        "Hasta ahora, sabemos cómo definir variables, por lo que podemos crear bloques de código un poco más avanzados. Lo primero que queremos hacer es crear una nueva variable llamada `under_age` y necesitaremos definirla usando una declaración contitional. Para ello, será útil recordar los operadores de comparación (`<, >, <=, >=, ==, !=`).\n",
        "\n",
        "La idea es la siguiente, si la persona es menor de edad, el valor de esta variable será \"Verdadero\" y será \"Falso\" en el otro caso.\n",
        "\n",
        "Para declarar una declaración condicional, se usa la siguiente sintaxis:\n",
        "\n",
        "```python\n",
        "if condition:\n",
        "    # Block of code for a satisfied condition \n",
        "else:\n",
        "    # Block of code for a non-satisfied condition \n",
        "```\n",
        "\n",
        "#### Ejemplo:\n"
      ]
    },
    {
      "cell_type": "code",
      "metadata": {
        "id": "9oJook66anxJ",
        "colab": {
          "base_uri": "https://localhost:8080/"
        },
        "outputId": "f07d47ca-6569-4861-c174-9f51e4e5a415"
      },
      "source": [
        "dog_color = \"black\"\n",
        "if dog_color == \"black\":\n",
        "    print(\"Indeed, this dog is black.\")\n",
        "else:\n",
        "    print(\"Nope, it is not a black dog.\")"
      ],
      "execution_count": 38,
      "outputs": [
        {
          "output_type": "stream",
          "name": "stdout",
          "text": [
            "Indeed, this dog is black.\n"
          ]
        }
      ]
    },
    {
      "cell_type": "markdown",
      "metadata": {
        "id": "hkoa6UOarhBD"
      },
      "source": [
        "## Bucles (ciclos)\n",
        "\n",
        "**Iteración** significa ejecutar el mismo bloque de código una y otra vez, potencialmente muchas veces. Una estructura de programación que implementa la iteración se llama **bucle** (o **ciclo**).\n",
        "\n",
        "Hay dos tipos de iteración:\n",
        "- **Iteración definida**, en la que el número de repeticiones se especifica explícitamente de antemano\n",
        "- **Iteración indefinida**, en la que el bloque de código se ejecuta hasta que se cumple alguna condición\n",
        "\n",
        "En Python, la iteración indefinida se realiza con un ciclo `while` y la iteración definida se realiza con un ciclo `for`.\n",
        "\n",
        "### Ciclo `while`\n",
        "\n",
        "Para un ciclo `while` será importante **establecer una condición de parada**. El formato de un ciclo `while` se muestra a continuación:\n",
        "\n",
        "```python\n",
        "while condition:\n",
        "    # Code goes ehre!\n",
        "```\n",
        "\n",
        "#### Ejemplo:\n"
      ]
    },
    {
      "cell_type": "code",
      "metadata": {
        "id": "SSnssdYwqI_G",
        "colab": {
          "base_uri": "https://localhost:8080/"
        },
        "outputId": "47e9b26f-b99d-4cce-8436-2a3c42a64036"
      },
      "source": [
        "n_iteration = 1\n",
        "\n",
        "while n_iteration <= 10:\n",
        "    print(f\"Iteration {n_iteration}.\")\n",
        "    n_iteration += 1"
      ],
      "execution_count": 39,
      "outputs": [
        {
          "output_type": "stream",
          "name": "stdout",
          "text": [
            "Iteration 1.\n",
            "Iteration 2.\n",
            "Iteration 3.\n",
            "Iteration 4.\n",
            "Iteration 5.\n",
            "Iteration 6.\n",
            "Iteration 7.\n",
            "Iteration 8.\n",
            "Iteration 9.\n",
            "Iteration 10.\n"
          ]
        }
      ]
    },
    {
      "cell_type": "markdown",
      "metadata": {
        "id": "xJFl2lQ1qJak"
      },
      "source": [
        "### Ciclo `for`\n",
        "\n",
        "Python tiene un **ciclo basado en colecciones** o **ciclo basado en iteradores**. Este tipo de bucle itera sobre una colección de objetos, en lugar de especificar valores numéricos o condiciones:\n",
        "\n",
        "```python\n",
        "for i in <collection>:\n",
        "    <loop body>\n",
        "```\n",
        "\n",
        "#### Ejemplo:\n",
        "\n",
        "Podemos iterar a través de los elementos de una lista:\n"
      ]
    },
    {
      "cell_type": "code",
      "metadata": {
        "id": "RFk0YLulqOQW",
        "colab": {
          "base_uri": "https://localhost:8080/"
        },
        "outputId": "6d00bcc0-174a-4938-9c2f-0adb8f3f3980"
      },
      "source": [
        "months = [\n",
        "    'January',\n",
        "    'February',\n",
        "    'March',\n",
        "    'April',\n",
        "    'May',\n",
        "    'June',\n",
        "    'July',\n",
        "    'August',\n",
        "    'September',\n",
        "    'October',\n",
        "    'November',\n",
        "    'December',\n",
        "]\n",
        "\n",
        "for month in months:\n",
        "    print(f\"The current month is {month}.\")"
      ],
      "execution_count": 40,
      "outputs": [
        {
          "output_type": "stream",
          "name": "stdout",
          "text": [
            "The current month is January.\n",
            "The current month is February.\n",
            "The current month is March.\n",
            "The current month is April.\n",
            "The current month is May.\n",
            "The current month is June.\n",
            "The current month is July.\n",
            "The current month is August.\n",
            "The current month is September.\n",
            "The current month is October.\n",
            "The current month is November.\n",
            "The current month is December.\n"
          ]
        }
      ]
    },
    {
      "cell_type": "markdown",
      "metadata": {
        "id": "OHMgj3aavIqc"
      },
      "source": [
        "O iterar solo a través de un rango de números:"
      ]
    },
    {
      "cell_type": "code",
      "metadata": {
        "id": "nevHbKcsvIBa",
        "colab": {
          "base_uri": "https://localhost:8080/"
        },
        "outputId": "e2a5abff-5833-4849-f9c5-a405c655b89d"
      },
      "source": [
        "for number in range(10):\n",
        "    print(f\"The current number is {number}.\")"
      ],
      "execution_count": 41,
      "outputs": [
        {
          "output_type": "stream",
          "name": "stdout",
          "text": [
            "The current number is 0.\n",
            "The current number is 1.\n",
            "The current number is 2.\n",
            "The current number is 3.\n",
            "The current number is 4.\n",
            "The current number is 5.\n",
            "The current number is 6.\n",
            "The current number is 7.\n",
            "The current number is 8.\n",
            "The current number is 9.\n"
          ]
        }
      ]
    },
    {
      "cell_type": "markdown",
      "metadata": {
        "id": "7Ko9pJ0_vrnb"
      },
      "source": [
        "**Nota:** *¿Todo esto aplica para las tuplas?*\n"
      ]
    },
    {
      "cell_type": "markdown",
      "metadata": {
        "id": "DZOOUM4jrn5O"
      },
      "source": [
        "## Diccionarios\n",
        "\n",
        "Python proporciona otro tipo de datos compuestos llamado **diccionario**, que es similar a una lista en que es una colección de objetos.\n",
        "\n",
        "Los diccionarios son diferentes de las listas principalmente por cómo acceder a sus elementos:\n",
        "\n",
        "- Se accede a los elementos de la lista por su posición en la lista, mediante indexación.\n",
        "- Se accede a los elementos del diccionario mediante llaves o claves (pares clave-valor)."
      ]
    },
    {
      "cell_type": "code",
      "metadata": {
        "id": "FNo_LTSuzEvk"
      },
      "source": [
        "student = {\n",
        "    \"name\": \"Jesús López\",\n",
        "    \"email\": \"algo@gmail.com\"\n",
        "}"
      ],
      "execution_count": 42,
      "outputs": []
    },
    {
      "cell_type": "code",
      "source": [
        "student['email']"
      ],
      "metadata": {
        "colab": {
          "base_uri": "https://localhost:8080/",
          "height": 35
        },
        "id": "SQor4A8H8ho1",
        "outputId": "cd389ce7-f5e1-40ab-b1a5-70799497375a"
      },
      "execution_count": 43,
      "outputs": [
        {
          "output_type": "execute_result",
          "data": {
            "application/vnd.google.colaboratory.intrinsic+json": {
              "type": "string"
            },
            "text/plain": [
              "'algo@gmail.com'"
            ]
          },
          "metadata": {},
          "execution_count": 43
        }
      ]
    },
    {
      "cell_type": "code",
      "source": [
        "# Agregar un nuevo elemento al diccionario student\n",
        "student['age'] = 23"
      ],
      "metadata": {
        "id": "C01j0G3w9643"
      },
      "execution_count": 3,
      "outputs": []
    },
    {
      "cell_type": "code",
      "source": [
        "print(student)"
      ],
      "metadata": {
        "colab": {
          "base_uri": "https://localhost:8080/"
        },
        "id": "oaCQLeA5-ImZ",
        "outputId": "1ef626f2-239a-4fbc-e58e-60519e282c5b"
      },
      "execution_count": 4,
      "outputs": [
        {
          "output_type": "stream",
          "name": "stdout",
          "text": [
            "{'name': 'Jesús López', 'email': 'algo@gmail.com', 'age': 23}\n"
          ]
        }
      ]
    },
    {
      "cell_type": "code",
      "source": [
        "# Mostrar las llaves\n",
        "student.keys()"
      ],
      "metadata": {
        "colab": {
          "base_uri": "https://localhost:8080/"
        },
        "id": "lwl4US9g-ZVK",
        "outputId": "df417bb3-b279-4ee4-975a-965c2a02633e"
      },
      "execution_count": 5,
      "outputs": [
        {
          "output_type": "execute_result",
          "data": {
            "text/plain": [
              "dict_keys(['name', 'email', 'age'])"
            ]
          },
          "metadata": {},
          "execution_count": 5
        }
      ]
    },
    {
      "cell_type": "code",
      "source": [
        "for key in student.keys():\n",
        "  print(student[key])"
      ],
      "metadata": {
        "colab": {
          "base_uri": "https://localhost:8080/"
        },
        "id": "IjCRFSz3-ZXd",
        "outputId": "c92f014b-06fa-434e-e162-fbe5427eb9a8"
      },
      "execution_count": 6,
      "outputs": [
        {
          "output_type": "stream",
          "name": "stdout",
          "text": [
            "Jesús López\n",
            "algo@gmail.com\n",
            "23\n"
          ]
        }
      ]
    },
    {
      "cell_type": "code",
      "source": [
        "# Mostrar los valores a los que llama cada hey\n",
        "student.values()"
      ],
      "metadata": {
        "colab": {
          "base_uri": "https://localhost:8080/"
        },
        "id": "0hBZtDxk-ZfD",
        "outputId": "d64e320a-6a27-4bf4-be38-84099c3a84da"
      },
      "execution_count": 7,
      "outputs": [
        {
          "output_type": "execute_result",
          "data": {
            "text/plain": [
              "dict_values(['Jesús López', 'algo@gmail.com', 23])"
            ]
          },
          "metadata": {},
          "execution_count": 7
        }
      ]
    },
    {
      "cell_type": "code",
      "source": [
        "# Contenido seccionado como tuplas con las parejas (llave,valor)\n",
        "student.items()"
      ],
      "metadata": {
        "colab": {
          "base_uri": "https://localhost:8080/"
        },
        "id": "5j-UdlC7-Zio",
        "outputId": "2b9152fc-32c6-4262-e080-a2e5b826d58f"
      },
      "execution_count": 16,
      "outputs": [
        {
          "output_type": "execute_result",
          "data": {
            "text/plain": [
              "dict_items([('name', 'Jesús López'), ('email', 'algo@gmail.com'), ('age', 23)])"
            ]
          },
          "metadata": {},
          "execution_count": 16
        }
      ]
    },
    {
      "cell_type": "code",
      "source": [
        "for key, value in student.items():\n",
        "  print(key, value)"
      ],
      "metadata": {
        "colab": {
          "base_uri": "https://localhost:8080/"
        },
        "id": "NWH_ZkYi_cvf",
        "outputId": "e0fa229d-51f5-4597-a2dd-ab527614c30a"
      },
      "execution_count": 8,
      "outputs": [
        {
          "output_type": "stream",
          "name": "stdout",
          "text": [
            "name Jesús López\n",
            "email algo@gmail.com\n",
            "age 23\n"
          ]
        }
      ]
    },
    {
      "cell_type": "markdown",
      "source": [
        "#Hack Women"
      ],
      "metadata": {
        "id": "zXlB7OlK8jXO"
      }
    },
    {
      "cell_type": "markdown",
      "metadata": {
        "id": "i6I0b2UkzcJb"
      },
      "source": [
        "## Funciones\n",
        "\n",
        "Las funciones nos permitirán empaquetar código que puede ser invocado a través de una línea con el nombre de la función.\n",
        "\n",
        "La estructura básica de una función es como sigue:\n",
        "\n",
        "```python\n",
        "# Palabra reservada DEF\n",
        "def name_of_function(arguments):\n",
        "    # Code of the function\n",
        "\n",
        "    return something\n",
        "```\n",
        "\n",
        "La nomenclatura de las funciones es consistente con la de las variables."
      ]
    },
    {
      "cell_type": "code",
      "metadata": {
        "id": "PZTz7Shhrs1M"
      },
      "source": [
        "# Implement the 2nd of the Newton's laws of motion\n",
        "\n",
        "# F es el nombre de la función; m y a son los parámetros que necesita la función\n",
        "# return devuelve al código principal algún resultado que genere la función\n",
        "def F(m, a):\n",
        "  fuerza = m * a\n",
        "  return fuerza "
      ],
      "execution_count": 12,
      "outputs": []
    },
    {
      "cell_type": "code",
      "source": [
        "# Llamando a la función con los parámetros que se utilizarán para los calculos\n",
        "print(f\"{F(60, 3)} N (Newton)\")"
      ],
      "metadata": {
        "colab": {
          "base_uri": "https://localhost:8080/"
        },
        "id": "Njt9bumMAjce",
        "outputId": "675a1d5e-d257-4373-d322-67128d43764a"
      },
      "execution_count": 13,
      "outputs": [
        {
          "output_type": "stream",
          "name": "stdout",
          "text": [
            "180 N (Newton)\n"
          ]
        }
      ]
    },
    {
      "cell_type": "code",
      "source": [
        "print(f\"{F(70, 9.81)} N (Newton)\")"
      ],
      "metadata": {
        "colab": {
          "base_uri": "https://localhost:8080/"
        },
        "id": "48LQEugvBE7j",
        "outputId": "a594ebdf-b0b5-473e-8a59-c0a9bcc45423"
      },
      "execution_count": 14,
      "outputs": [
        {
          "output_type": "stream",
          "name": "stdout",
          "text": [
            "686.7 N (Newton)\n"
          ]
        }
      ]
    },
    {
      "cell_type": "markdown",
      "source": [
        "#Ejemplo 1\n",
        "-  Procedimiento CalcularMaxMin: recibe una lista de enteros  y devuelve\n",
        "el máximo y el mínimo de los números guardados en el vector.\n",
        "Parámetros de entrada: lista de enteros\n",
        "Valores de salida: valor máximo y mínimo"
      ],
      "metadata": {
        "id": "w6i3aF0EzsbT"
      }
    },
    {
      "cell_type": "code",
      "source": [
        "# Ejemplo 1\n",
        "\n",
        "import random\n",
        "\n",
        "# Definición de la función\n",
        "def CalcularMaxMin(lista):\n",
        "\treturn (max(lista), min(lista))\n",
        " \n",
        "numeros = []\n",
        "\n",
        "# Crear los números aleatoriamente que se van a dar a la función\n",
        "for i in range(10):\n",
        "\tnumeros.append(random.randint(1,101))\n",
        "print(f\"números: {numeros}\")\n",
        " \n",
        "# Llamar a la función\n",
        "# los valores que regrese la función se van a guardar en vmax y vmin\n",
        "vmax, vmin = CalcularMaxMin(numeros)\n",
        "print(\"El valor máximo es: \", vmax)\n",
        "print(\"El valor minimo es: \", vmin)"
      ],
      "metadata": {
        "colab": {
          "base_uri": "https://localhost:8080/"
        },
        "id": "erZUUm7pw7qc",
        "outputId": "6f8a0d11-2de4-4176-e8eb-9cda7210f852"
      },
      "execution_count": 24,
      "outputs": [
        {
          "output_type": "stream",
          "name": "stdout",
          "text": [
            "números: [79, 60, 51, 80, 69, 13, 73, 17, 76, 9]\n",
            "El valor máximo es:  80\n",
            "El valor minimo es:  9\n"
          ]
        }
      ]
    },
    {
      "cell_type": "markdown",
      "source": [
        "#Ejemplo 2\n",
        "\n",
        "- Función CalcularAreaPerimetro: recibe el radio de una circunferencia y\n",
        "devuelve el área y el perímetro.\n",
        "Parámetros de entrada: radio (real)\n",
        "Valores de salida: área y perímetro (real)"
      ],
      "metadata": {
        "id": "xKZM-l4F0AEr"
      }
    },
    {
      "cell_type": "code",
      "source": [
        "# Ejemplo 2\n",
        "\n",
        "# llamar a la librería MATH para hacer algunos cálculos matemáticos\n",
        "import math \n",
        "\n",
        "def CalcularAreaPerimetro(radio):\n",
        "\tarea = math.pi * radio ** 2\n",
        "\tperimetro = 2 * math.pi * radio\n",
        "\treturn area, perimetro\n",
        "\n",
        "# Pedir al usuario el valor a utilizar\n",
        "radio = float(input(\"Introduce el radio del círculo: \"))\n",
        "area, perimetro = CalcularAreaPerimetro(radio)\n",
        "print(\"Area: \",area)\n",
        "print(\"Perímetro: \", perimetro)\n"
      ],
      "metadata": {
        "colab": {
          "base_uri": "https://localhost:8080/"
        },
        "id": "jnCZxGp0wecv",
        "outputId": "26e60778-c535-4d31-90ba-69c8fb99580a"
      },
      "execution_count": 21,
      "outputs": [
        {
          "output_type": "stream",
          "name": "stdout",
          "text": [
            "Introduce el radio del círculo: 56.8\n",
            "Area:  10135.531882717534\n",
            "Perímetro:  356.88492544780047\n"
          ]
        }
      ]
    },
    {
      "cell_type": "markdown",
      "source": [
        "# Ejemplo 3\n",
        "\n",
        "- Función centrar: Recibe una cadena y la imprime centrada en la pantalla."
      ],
      "metadata": {
        "id": "u0XxKuyQ0Qeg"
      }
    },
    {
      "cell_type": "code",
      "source": [
        "#Ejemplo 3\n",
        "\n",
        "def centrar(cad):\n",
        "\t# Suponemos que la pantalla será de 80 caracteres de ancho\n",
        "\tprint(\" \" * int(40 - (len(cad)/2)), cad)\n",
        "\tprint(\" \" * int(40 - (len(cad)/2)), \"=\" * len(cad))\n",
        "\n",
        "\n",
        "mensaje1 = \"HackWomen\"\n",
        "centrar(mensaje1)\n",
        "mensaje2 = \"SKILLS FOR WOMEN IN TECH\"\n",
        "centrar(mensaje2)"
      ],
      "metadata": {
        "colab": {
          "base_uri": "https://localhost:8080/"
        },
        "id": "iDD9RDGNtrGk",
        "outputId": "5ed30018-b66e-4484-f2df-d1d2af1d4b24"
      },
      "execution_count": 25,
      "outputs": [
        {
          "output_type": "stream",
          "name": "stdout",
          "text": [
            "                                    HackWomen\n",
            "                                    =========\n",
            "                             SKILLS FOR WOMEN IN TECH\n",
            "                             ========================\n"
          ]
        }
      ]
    },
    {
      "cell_type": "markdown",
      "source": [
        "# Ejemplo 4\n",
        "\n",
        "- Función Convertir a  segundos: Recibe una cantidad de horas, minutos y segundos y calcula a cuantos segundos corresponde."
      ],
      "metadata": {
        "id": "qqg4K8rc0gjL"
      }
    },
    {
      "cell_type": "code",
      "source": [
        "from sys import exc_info\n",
        "# Ejemplo 4\n",
        "\n",
        "def Convertir_A_Segundos(h, m, s):\n",
        "  return h * 3600 + m * 60 + s\n",
        "\n",
        "def Covertir_A_HMS(seg):\n",
        "  # división entera\n",
        "   h = seg//3600\n",
        "   seg = seg - h*3600\n",
        "   m = seg//60\n",
        "   seg = seg - m*60\n",
        "   s = seg\n",
        "   return h,m,s\n",
        "\n",
        "while True:\n",
        "  print(\"1. Convertir a segundos\")\n",
        "  print(\"2. Convertir a horas, minutos y segundos\")\n",
        "  print(\"3. Salir\")\n",
        "\n",
        "  opcion = int(input()) \n",
        "  if opcion == 1:\n",
        "    hor = int(input(\"Horas:\"))\n",
        "    minu = int(input(\"Minutos:\"))\n",
        "    seg = int(input(\"Segundos:\"))\n",
        "    print(\"Corresponde a\", Convertir_A_Segundos(hor, minu, seg), \"segundos.\")\n",
        "  elif opcion == 2:\n",
        "    segund = int(input(\"Segundos:\"))\n",
        "    hor, minu, seg = Covertir_A_HMS(segund)\n",
        "    print(\"Corresponde a\", hor,\":\",minu,\":\",seg)\n",
        "  elif opcion == 3:\n",
        "    break\n",
        "  else:\n",
        "    print(\"Opción incorrecta\")"
      ],
      "metadata": {
        "colab": {
          "base_uri": "https://localhost:8080/"
        },
        "id": "1Nmk9-iS0gCg",
        "outputId": "c76e8c3a-8116-41f8-a0a9-fd5c6e6b53a0"
      },
      "execution_count": 28,
      "outputs": [
        {
          "name": "stdout",
          "output_type": "stream",
          "text": [
            "1. Convertir a segundos\n",
            "2. Convertir a horas, minutos y segundos\n",
            "3. Salir\n",
            "1\n",
            "Horas:1\n",
            "Minutos:1\n",
            "Segundos:1\n",
            "Corresponde a 3661 segundos.\n",
            "1. Convertir a segundos\n",
            "2. Convertir a horas, minutos y segundos\n",
            "3. Salir\n",
            "2\n",
            "Segundos:3600\n",
            "Corresponde a 1 : 0 : 0\n",
            "1. Convertir a segundos\n",
            "2. Convertir a horas, minutos y segundos\n",
            "3. Salir\n",
            "3\n"
          ]
        }
      ]
    },
    {
      "cell_type": "markdown",
      "source": [
        "# Ejemplo 5\n",
        "\n",
        "- Función ValidarFecha: Recibe un día, mes y año correspondiente a una fecha y  devuelve si la fecha es correcta o no.\n",
        "Simplemente miramos si el día indicado es mayor que 1 y menor que los días del mes. Si introducimos un mes incorrecto, la función DiasDelMes devuelve 0 por lo tanto la fecha va a ser incorrecta.\n",
        "Parámetros de entrada: día, mes y año\n",
        "-  Dato devuelto: Valor lógico indicando si es correcta (Verdadero) o no (Falso)"
      ],
      "metadata": {
        "id": "8QeHRDNa1C3n"
      }
    },
    {
      "cell_type": "code",
      "source": [
        "#Ejemplo 5\n",
        "\n",
        "def ValidarFecha(d,m,a):\n",
        "  mes31 = (1,3,5,7,8,10,12)\n",
        "  mes30 = (4,6,9,11)\n",
        "  d = DiaDelMes(d,m)\n",
        "  correcto = False\n",
        "  if m in mes31:\n",
        "    if(d >= 1 and d <= 31):\n",
        "      correcto = True\n",
        "  elif m in mes30:\n",
        "    if(d >= 1 and d <= 30):\n",
        "      correcto = True\n",
        "  elif m == 2:\n",
        "    if(d >= 1 and d <= 28):\n",
        "      correcto = True\n",
        "  return correcto\n",
        "\n",
        "def DiaDelMes(dia,mes):\n",
        "  if (mes <= 0 and mes > 12):\n",
        "    return 0\n",
        "  else:\n",
        "    return dia\n",
        "\n",
        "d, m, a = int(input('Ingresa la fecha\\ndía: ')), int(input('mes: ')), int(input('año: '))\n",
        "ValidarFecha(d,m,a)"
      ],
      "metadata": {
        "id": "ejA6sUme1bS2",
        "colab": {
          "base_uri": "https://localhost:8080/"
        },
        "outputId": "2a80df93-f2b3-4a33-8d70-bf0cbdb044a3"
      },
      "execution_count": 27,
      "outputs": [
        {
          "name": "stdout",
          "output_type": "stream",
          "text": [
            "Ingresa la fecha\n",
            "día: 30\n",
            "mes: 2\n",
            "año: 2020\n"
          ]
        },
        {
          "output_type": "execute_result",
          "data": {
            "text/plain": [
              "False"
            ]
          },
          "metadata": {},
          "execution_count": 27
        }
      ]
    },
    {
      "cell_type": "markdown",
      "metadata": {
        "id": "w7DrerwS1zd_"
      },
      "source": [
        "## ¡A resolver el reto!\n",
        "\n",
        "Vamos a prodecer a crear una lista de diccionarios, esto es, un directorio de estudiantes de SKILLS FOR WOMEN IN TECH que participarán en una edición en línea.\n",
        "\n",
        "Cada estudiante debe tener los siguientes atributos:\n",
        "- Nombre <str>\n",
        "- Edad <int>\n",
        "- Temas <lista>\n",
        "- Menores de edad <bool>\n",
        "\n",
        "Puedes asignar los datos a mano o utilizar funciones aleatorias para llenar los campos."
      ]
    },
    {
      "cell_type": "code",
      "metadata": {
        "id": "SVynPZKD2RAm",
        "colab": {
          "base_uri": "https://localhost:8080/"
        },
        "outputId": "61be3c0e-28a3-43a3-cbb7-c0bd58304197"
      },
      "source": [
        "# All your code goes here!!!\n",
        "estudiantes = [\n",
        "  {\n",
        "      'nombre': 'Alejandra Benitez',\n",
        "      'edad': 30,\n",
        "      'tema': 'Backend',\n",
        "      'menorEdad': False,\n",
        "  },\n",
        "]\n",
        "\n",
        "while True:\n",
        "  opcion = int(input(\"\"\"Elige la opción que deseas:\n",
        "  1. Ingresar una estudiante nueva\n",
        "  2. Ver la lista de estudiantes registradas\n",
        "  3. Salir\\n\"\"\"))\n",
        "  if opcion == 1:\n",
        "    estudiante = {}\n",
        "    estudiante['nombre'] = input('Nombre: ')\n",
        "    estudiante['edad'] = input('Edad: ')\n",
        "    estudiante['tema'] = input('¿Qué tema te interesa? ')\n",
        "    estudiante['menorEdad'] = bool(input('¿Eres menor de edad? Si = 1, No = 0'))\n",
        "    estudiantes.append(estudiante)\n",
        "  elif opcion == 2:\n",
        "    print(estudiantes)\n",
        "  elif opcion == 3:\n",
        "    break\n",
        "  else:\n",
        "    print('Opción inválida')"
      ],
      "execution_count": 45,
      "outputs": [
        {
          "name": "stdout",
          "output_type": "stream",
          "text": [
            "Elige la opción que deseas:\n",
            "  1. Ingresar una estudiante nueva\n",
            "  2. Ver la lista de estudiantes registradas\n",
            "  3. Salir\n",
            "1\n",
            "Nombre: Frida Montalvo\n",
            "Edad: 18\n",
            "¿Qué tema te interesa? FrontEnd\n",
            "¿Eres menor de edad? Si = 1, No = 00\n",
            "Elige la opción que deseas:\n",
            "  1. Ingresar una estudiante nueva\n",
            "  2. Ver la lista de estudiantes registradas\n",
            "  3. Salir\n",
            "2\n",
            "[{'nombre': 'Alejandra Benitez', 'edad': 30, 'tema': 'Backend', 'menorEdad': False}, {'nombre': 'Brenda Montalvo', 'edad': '23', 'tema': 'FrontEnd', 'menorEdad': True}]\n",
            "Elige la opción que deseas:\n",
            "  1. Ingresar una estudiante nueva\n",
            "  2. Ver la lista de estudiantes registradas\n",
            "  3. Salir\n",
            "3\n"
          ]
        }
      ]
    },
    {
      "cell_type": "markdown",
      "metadata": {
        "id": "efpB7jYb3hQj"
      },
      "source": [
        "--------\n",
        "\n",
        "> Contenido creado por **Jesús López**  2022. <br>\n",
        "> Contacto: [@jalopez_garcia](https://www.instagram.com/jalopez_garcia/) & [@jalopez_garcia](https://twitter.com/jalopez_garcia)"
      ]
    }
  ]
}
